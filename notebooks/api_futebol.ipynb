{
 "cells": [
  {
   "cell_type": "code",
   "execution_count": 21,
   "metadata": {},
   "outputs": [
    {
     "name": "stdout",
     "output_type": "stream",
     "text": [
      "Requirement already satisfied: requests in /Users/arthurgonzaga/.pyenv/versions/3.10.14/lib/python3.10/site-packages (2.32.3)\n",
      "Requirement already satisfied: python-dotenv in /Users/arthurgonzaga/.pyenv/versions/3.10.14/lib/python3.10/site-packages (1.0.1)\n",
      "Requirement already satisfied: charset-normalizer<4,>=2 in /Users/arthurgonzaga/.pyenv/versions/3.10.14/lib/python3.10/site-packages (from requests) (3.4.0)\n",
      "Requirement already satisfied: idna<4,>=2.5 in /Users/arthurgonzaga/.pyenv/versions/3.10.14/lib/python3.10/site-packages (from requests) (3.10)\n",
      "Requirement already satisfied: urllib3<3,>=1.21.1 in /Users/arthurgonzaga/.pyenv/versions/3.10.14/lib/python3.10/site-packages (from requests) (2.2.2)\n",
      "Requirement already satisfied: certifi>=2017.4.17 in /Users/arthurgonzaga/.pyenv/versions/3.10.14/lib/python3.10/site-packages (from requests) (2024.8.30)\n"
     ]
    }
   ],
   "source": [
    "!pip install requests python-dotenv"
   ]
  },
  {
   "cell_type": "code",
   "execution_count": null,
   "metadata": {},
   "outputs": [],
   "source": []
  },
  {
   "cell_type": "code",
   "execution_count": 22,
   "metadata": {},
   "outputs": [],
   "source": [
    "import requests\n",
    "from pathlib import Path\n",
    "from dotenv import load_dotenv\n",
    "import json\n",
    "import os"
   ]
  },
  {
   "cell_type": "code",
   "execution_count": 23,
   "metadata": {},
   "outputs": [],
   "source": [
    "dotenv_path = Path(\"/Users/arthurgonzaga/DataKick/.env\")\n",
    "load_dotenv(dotenv_path=dotenv_path)\n",
    "api_key = os.getenv('KEY_API_FUTEBOL_PROD')\n",
    "# api_key = os.getenv('KEY_API_FUTEBOL_DEV')\n",
    "campeonato_id = 10 # campeonato brasileiro"
   ]
  },
  {
   "cell_type": "code",
   "execution_count": 24,
   "metadata": {},
   "outputs": [],
   "source": [
    "url = f\"https://api.api-futebol.com.br/v1/campeonatos/{campeonato_id}/partidas\"\n",
    "# Cabeçalhos da requisição\n",
    "headers = {\n",
    "    \"Authorization\": f\"Bearer {api_key}\"\n",
    "}"
   ]
  },
  {
   "cell_type": "code",
   "execution_count": 25,
   "metadata": {},
   "outputs": [],
   "source": [
    "# response = requests.get(url, headers=headers).json()"
   ]
  },
  {
   "cell_type": "code",
   "execution_count": 26,
   "metadata": {},
   "outputs": [],
   "source": [
    "# response"
   ]
  },
  {
   "cell_type": "code",
   "execution_count": 27,
   "metadata": {},
   "outputs": [],
   "source": [
    "with open(\"response_data.json\", \"r\") as json_file:\n",
    "    matches_json = json.load(json_file)"
   ]
  },
  {
   "cell_type": "code",
   "execution_count": 28,
   "metadata": {},
   "outputs": [],
   "source": [
    "def match_extraction(matches_index, round = None):\n",
    "\n",
    "    base_url = 'https://api.api-futebol.com.br'\n",
    "    championship_name = matches_index['campeonato']['slug']\n",
    "    championship_name = championship_name.replace('-', '_')\n",
    "    path = '/Users/arthurgonzaga/DataKick/notebooks/temp'\n",
    "\n",
    "    if round == None:\n",
    "        for round_champ in matches_index['partidas']['fase-unica']:\n",
    "            round = (round_champ.replace('-', '_'))\n",
    "            for match in matches_index['partidas']['fase-unica'][round_champ]:\n",
    "                id_match = match['partida_id']\n",
    "                endpoint = match['_link']\n",
    "                url = base_url + endpoint\n",
    "                response = requests.get(url, headers=headers).json()\n",
    "                os.makedirs(f\"{path}/{championship_name}/{round}\", exist_ok=True)\n",
    "                with open(f\"{path}/{championship_name}/{round}/{id_match}.json\", \"w+\") as json_file:\n",
    "                    json.dump(response, json_file, indent=4)\n",
    "    else:\n",
    "        for match in matches_index['partidas']['fase-unica'][round]:\n",
    "            id_match = match['partida_id']\n",
    "            endpoint = match['_link']\n",
    "            url = base_url + endpoint\n",
    "            response = requests.get(url, headers=headers).json()\n",
    "            os.makedirs(f\"{path}/{championship_name}/{round}\", exist_ok=True)\n",
    "            with open(f\"{path}/{championship_name}/{round}/{id_match}.json\", \"w+\") as json_file:\n",
    "                json.dump(response, json_file, indent=4)\n",
    "\n"
   ]
  },
  {
   "cell_type": "code",
   "execution_count": 31,
   "metadata": {},
   "outputs": [],
   "source": [
    "match_extraction(matches_json, round='14a-rodada')"
   ]
  },
  {
   "cell_type": "code",
   "execution_count": 34,
   "metadata": {},
   "outputs": [
    {
     "name": "stdout",
     "output_type": "stream",
     "text": [
      "15a-rodada\n",
      "16a-rodada\n",
      "17a-rodada\n",
      "18a-rodada\n",
      "19a-rodada\n"
     ]
    }
   ],
   "source": [
    "for r in range(17, 27, 1):\n",
    "    round = f'{r}a-rodada'\n",
    "    print(round)\n",
    "    match_extraction(matches_json, round=round)"
   ]
  },
  {
   "cell_type": "code",
   "execution_count": null,
   "metadata": {},
   "outputs": [],
   "source": []
  },
  {
   "cell_type": "code",
   "execution_count": null,
   "metadata": {},
   "outputs": [],
   "source": []
  },
  {
   "cell_type": "code",
   "execution_count": 30,
   "metadata": {},
   "outputs": [],
   "source": [
    "# with open(\"response_data.json\", \"w\") as json_file:\n",
    "#     json.dump(res_json, json_file, indent=4)"
   ]
  },
  {
   "cell_type": "code",
   "execution_count": null,
   "metadata": {},
   "outputs": [],
   "source": []
  }
 ],
 "metadata": {
  "kernelspec": {
   "display_name": "3.10.14",
   "language": "python",
   "name": "python3"
  },
  "language_info": {
   "codemirror_mode": {
    "name": "ipython",
    "version": 3
   },
   "file_extension": ".py",
   "mimetype": "text/x-python",
   "name": "python",
   "nbconvert_exporter": "python",
   "pygments_lexer": "ipython3",
   "version": "3.10.14"
  }
 },
 "nbformat": 4,
 "nbformat_minor": 2
}
