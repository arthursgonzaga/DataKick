{
 "cells": [
  {
   "cell_type": "code",
   "execution_count": 1,
   "metadata": {},
   "outputs": [],
   "source": [
    "import duckdb\n",
    "from pathlib import Path\n",
    "from dotenv import load_dotenv\n",
    "import os"
   ]
  },
  {
   "cell_type": "code",
   "execution_count": 2,
   "metadata": {},
   "outputs": [
    {
     "data": {
      "text/plain": [
       "True"
      ]
     },
     "execution_count": 2,
     "metadata": {},
     "output_type": "execute_result"
    }
   ],
   "source": [
    "dotenv_path = Path(\"/Users/arthurgonzaga/DataKick/.env\")\n",
    "load_dotenv(dotenv_path=dotenv_path)"
   ]
  },
  {
   "cell_type": "code",
   "execution_count": 3,
   "metadata": {},
   "outputs": [],
   "source": [
    "\n",
    "# Configuração das credenciais do MinIO\n",
    "MINIO_ACCESS_KEY = os.getenv('MINIO_ACCESS_KEY')\n",
    "MINIO_SECRET_KEY = os.getenv('MINIO_SECRET_KEY')\n",
    "MINIO_ENDPOINT = \"localhost:9000\"\n",
    "\n",
    "# Caminho do arquivo no MinIO\n",
    "minio_csv_path = \"s3://bronze/datadrop/kaggle/database.csv\""
   ]
  },
  {
   "cell_type": "code",
   "execution_count": 8,
   "metadata": {},
   "outputs": [
    {
     "data": {
      "text/plain": [
       "<duckdb.duckdb.DuckDBPyConnection at 0x10bbf78b0>"
      ]
     },
     "execution_count": 8,
     "metadata": {},
     "output_type": "execute_result"
    }
   ],
   "source": [
    "\n",
    "# Conectando ao DuckDB\n",
    "con = duckdb.connect()\n",
    "\n",
    "config = f\"\"\"\n",
    "INSTALL httpfs;\n",
    "LOAD httpfs;\n",
    "SET s3_access_key_id='{MINIO_ACCESS_KEY}';\n",
    "SET s3_secret_access_key='{MINIO_SECRET_KEY}';\n",
    "SET s3_endpoint='{MINIO_ENDPOINT}'; -- Endpoint do MinIO\n",
    "SET s3_url_style = 'path';\n",
    "SET s3_use_ssl=false; -- Defina como 'true' se estiver usando SSL/TLS no MinIO\n",
    "\"\"\"\n",
    "\n",
    "# Configurando as credenciais e o endpoint do MinIO no DuckDB\n",
    "con.execute(config)"
   ]
  },
  {
   "cell_type": "code",
   "execution_count": 9,
   "metadata": {},
   "outputs": [
    {
     "name": "stdout",
     "output_type": "stream",
     "text": [
      "\n",
      "INSTALL httpfs;\n",
      "LOAD httpfs;\n",
      "SET s3_access_key_id='jknVRF5166kyQRLiK7gc';\n",
      "SET s3_secret_access_key='OKczJuafJxBfAQ8xn9hiHguhbQtQgmYALDwLY1Sy';\n",
      "SET s3_endpoint='localhost:9000'; -- Endpoint do MinIO\n",
      "SET s3_url_style = 'path';\n",
      "SET s3_use_ssl=false; -- Defina como 'true' se estiver usando SSL/TLS no MinIO\n",
      "\n"
     ]
    }
   ],
   "source": [
    "print(config)"
   ]
  },
  {
   "cell_type": "code",
   "execution_count": 10,
   "metadata": {},
   "outputs": [
    {
     "name": "stdout",
     "output_type": "stream",
     "text": [
      "              Jogador      Time   # Nação Pos.   Idade  Min.  Gols  Assis.  \\\n",
      "0                Éder  Criciúma  23   ITA   FW  37-150  57.0     0       0   \n",
      "1     Yannick Bolasie  Criciúma  11   COD   FW  34-325  33.0     0       0   \n",
      "2       Renato Kayser  Criciúma  79   BRA   FW  28-056  85.0     1       0   \n",
      "3              Arthur  Criciúma  35   BRA   FW  31-303   5.0     0       0   \n",
      "4  Marquinhos Gabriel  Criciúma  10   BRA   AM  33-267  77.0     0       0   \n",
      "\n",
      "   PB  ...  GCA   Cmp   Att  Cmp%  PrgP  Conduções  PrgC  Tent  Suc       Data  \n",
      "0   0  ...  0.0  12.0  16.0  75,0   3.0       17.0   0.0   0.0  0.0 2024-04-13  \n",
      "1   0  ...  0.0   4.0   5.0  80,0   0.0        6.0   3.0   5.0  3.0 2024-04-13  \n",
      "2   0  ...  0.0  10.0  15.0  66,7   4.0       14.0   0.0   1.0  0.0 2024-04-13  \n",
      "3   0  ...  0.0   5.0   6.0  83,3   1.0        2.0   0.0   1.0  1.0 2024-04-13  \n",
      "4   0  ...  1.0  22.0  24.0  91,7   3.0       24.0   2.0   7.0  5.0 2024-04-13  \n",
      "\n",
      "[5 rows x 33 columns]\n"
     ]
    }
   ],
   "source": [
    "# Carregando o CSV do MinIO para uma tabela temporária e lendo os dados\n",
    "try:\n",
    "    result = con.execute(f\"SELECT * FROM read_csv_auto('{minio_csv_path}')\").df()\n",
    "    print(result.head())  # Mostra as primeiras linhas do dataframe\n",
    "except Exception as e:\n",
    "    print(\"Erro ao acessar o MinIO:\", e)"
   ]
  },
  {
   "cell_type": "code",
   "execution_count": 11,
   "metadata": {},
   "outputs": [],
   "source": [
    "# Fechar a conexão\n",
    "con.close()"
   ]
  }
 ],
 "metadata": {
  "kernelspec": {
   "display_name": "3.10.14",
   "language": "python",
   "name": "python3"
  },
  "language_info": {
   "codemirror_mode": {
    "name": "ipython",
    "version": 3
   },
   "file_extension": ".py",
   "mimetype": "text/x-python",
   "name": "python",
   "nbconvert_exporter": "python",
   "pygments_lexer": "ipython3",
   "version": "3.10.14"
  }
 },
 "nbformat": 4,
 "nbformat_minor": 2
}
