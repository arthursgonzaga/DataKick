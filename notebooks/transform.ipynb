{
 "cells": [
  {
   "cell_type": "code",
   "execution_count": 11,
   "metadata": {},
   "outputs": [],
   "source": [
    "import duckdb\n",
    "from pathlib import Path\n",
    "from dotenv import load_dotenv\n",
    "import os"
   ]
  },
  {
   "cell_type": "code",
   "execution_count": 12,
   "metadata": {},
   "outputs": [
    {
     "data": {
      "text/plain": [
       "True"
      ]
     },
     "execution_count": 12,
     "metadata": {},
     "output_type": "execute_result"
    }
   ],
   "source": [
    "dotenv_path = Path(\"/Users/arthurgonzaga/DataKick/.env\")\n",
    "load_dotenv(dotenv_path=dotenv_path)"
   ]
  },
  {
   "cell_type": "code",
   "execution_count": 13,
   "metadata": {},
   "outputs": [],
   "source": [
    "\n",
    "# Configuração das credenciais do MinIO\n",
    "MINIO_ACCESS_KEY = os.getenv('MINIO_ACCESS_KEY')\n",
    "MINIO_SECRET_KEY = os.getenv('MINIO_SECRET_KEY')\n",
    "MINIO_ENDPOINT = \"localhost:9000\"\n",
    "\n",
    "# Caminho do arquivo no MinIO\n",
    "minio_csv_path = \"s3://bronze/datadrop/kaggle/database.csv\""
   ]
  },
  {
   "cell_type": "code",
   "execution_count": 14,
   "metadata": {},
   "outputs": [
    {
     "data": {
      "text/plain": [
       "<duckdb.duckdb.DuckDBPyConnection at 0x105514030>"
      ]
     },
     "execution_count": 14,
     "metadata": {},
     "output_type": "execute_result"
    }
   ],
   "source": [
    "\n",
    "# Conectando ao DuckDB\n",
    "con = duckdb.connect()\n",
    "\n",
    "config = f\"\"\"\n",
    "INSTALL httpfs;\n",
    "LOAD httpfs;\n",
    "SET s3_access_key_id='{MINIO_ACCESS_KEY}';\n",
    "SET s3_secret_access_key='{MINIO_SECRET_KEY}';\n",
    "SET s3_endpoint='{MINIO_ENDPOINT}'; -- Endpoint do MinIO\n",
    "SET s3_url_style = 'path';\n",
    "SET s3_use_ssl=false; -- Defina como 'true' se estiver usando SSL/TLS no MinIO\n",
    "\"\"\"\n",
    "\n",
    "# Configurando as credenciais e o endpoint do MinIO no DuckDB\n",
    "con.execute(config)"
   ]
  },
  {
   "cell_type": "code",
   "execution_count": 15,
   "metadata": {},
   "outputs": [
    {
     "name": "stdout",
     "output_type": "stream",
     "text": [
      "\n",
      "INSTALL httpfs;\n",
      "LOAD httpfs;\n",
      "SET s3_access_key_id='jknVRF5166kyQRLiK7gc';\n",
      "SET s3_secret_access_key='OKczJuafJxBfAQ8xn9hiHguhbQtQgmYALDwLY1Sy';\n",
      "SET s3_endpoint='localhost:9000'; -- Endpoint do MinIO\n",
      "SET s3_url_style = 'path';\n",
      "SET s3_use_ssl=false; -- Defina como 'true' se estiver usando SSL/TLS no MinIO\n",
      "\n"
     ]
    }
   ],
   "source": [
    "print(config)"
   ]
  },
  {
   "cell_type": "code",
   "execution_count": 21,
   "metadata": {},
   "outputs": [],
   "source": [
    "query = f\"\"\"\n",
    "SELECT\n",
    "    Jogador AS player,\n",
    "    Time AS team,\n",
    "    \"#\" AS number,\n",
    "    Nação AS nationality,\n",
    "    \"Pos.\" AS position,\n",
    "    Idade AS age,\n",
    "    \"Min.\" AS minutes,\n",
    "    Gols AS goals,\n",
    "    \"Assis.\" AS assists,\n",
    "    PB AS progressive_passes,\n",
    "    PT AS total_passes,\n",
    "    TC AS tackles,\n",
    "    CaG AS goals_conceded,\n",
    "    CrtsA AS yellow_cards,\n",
    "    CrtV AS red_cards,\n",
    "    Contatos AS touches,\n",
    "    Div AS duels,\n",
    "    Crts AS fouls,\n",
    "    Bloqueios AS blocks,\n",
    "    xG AS expected_goals,\n",
    "    npxG AS non_penalty_expected_goals,\n",
    "    xAG AS expected_assists,\n",
    "    SCA AS shot_creating_actions,\n",
    "    GCA AS goal_creating_actions,\n",
    "    Cmp AS passes_completed,\n",
    "    Att AS passes_attempted,\n",
    "    \"Cmp%\" AS pass_completion_percentage,\n",
    "    PrgP AS progressive_passes_distance,\n",
    "    Conduções AS dribbles,\n",
    "    PrgC AS progressive_carries,\n",
    "    Tent AS dribbles_attempted,\n",
    "    Suc AS dribbles_successful,\n",
    "    Data AS updated_date\n",
    "FROM read_csv_auto('{minio_csv_path}')\n",
    "\"\"\""
   ]
  },
  {
   "cell_type": "code",
   "execution_count": 22,
   "metadata": {},
   "outputs": [
    {
     "name": "stdout",
     "output_type": "stream",
     "text": [
      "               player      team  number nationality position     age  minutes  \\\n",
      "0                Éder  Criciúma      23         ITA       FW  37-150     57.0   \n",
      "1     Yannick Bolasie  Criciúma      11         COD       FW  34-325     33.0   \n",
      "2       Renato Kayser  Criciúma      79         BRA       FW  28-056     85.0   \n",
      "3              Arthur  Criciúma      35         BRA       FW  31-303      5.0   \n",
      "4  Marquinhos Gabriel  Criciúma      10         BRA       AM  33-267     77.0   \n",
      "\n",
      "   goals  assists  progressive_passes  ...  goal_creating_actions  \\\n",
      "0      0        0                   0  ...                    0.0   \n",
      "1      0        0                   0  ...                    0.0   \n",
      "2      1        0                   0  ...                    0.0   \n",
      "3      0        0                   0  ...                    0.0   \n",
      "4      0        0                   0  ...                    1.0   \n",
      "\n",
      "   passes_completed  passes_attempted  pass_completion_percentage  \\\n",
      "0              12.0              16.0                        75,0   \n",
      "1               4.0               5.0                        80,0   \n",
      "2              10.0              15.0                        66,7   \n",
      "3               5.0               6.0                        83,3   \n",
      "4              22.0              24.0                        91,7   \n",
      "\n",
      "   progressive_passes_distance  dribbles  progressive_carries  \\\n",
      "0                          3.0      17.0                  0.0   \n",
      "1                          0.0       6.0                  3.0   \n",
      "2                          4.0      14.0                  0.0   \n",
      "3                          1.0       2.0                  0.0   \n",
      "4                          3.0      24.0                  2.0   \n",
      "\n",
      "   dribbles_attempted  dribbles_successful  updated_date  \n",
      "0                 0.0                  0.0    2024-04-13  \n",
      "1                 5.0                  3.0    2024-04-13  \n",
      "2                 1.0                  0.0    2024-04-13  \n",
      "3                 1.0                  1.0    2024-04-13  \n",
      "4                 7.0                  5.0    2024-04-13  \n",
      "\n",
      "[5 rows x 33 columns]\n"
     ]
    }
   ],
   "source": [
    "# Carregando o CSV do MinIO para uma tabela temporária e lendo os dados\n",
    "try:\n",
    "    result = con.execute(query).df()\n",
    "    print(result.head())  # Mostra as primeiras linhas do dataframe\n",
    "except Exception as e:\n",
    "    print(\"Erro ao acessar o MinIO:\", e)"
   ]
  },
  {
   "cell_type": "code",
   "execution_count": 18,
   "metadata": {},
   "outputs": [],
   "source": [
    "# Fechar a conexão\n",
    "# con.close()"
   ]
  }
 ],
 "metadata": {
  "kernelspec": {
   "display_name": "3.10.14",
   "language": "python",
   "name": "python3"
  },
  "language_info": {
   "codemirror_mode": {
    "name": "ipython",
    "version": 3
   },
   "file_extension": ".py",
   "mimetype": "text/x-python",
   "name": "python",
   "nbconvert_exporter": "python",
   "pygments_lexer": "ipython3",
   "version": "3.10.14"
  }
 },
 "nbformat": 4,
 "nbformat_minor": 2
}
